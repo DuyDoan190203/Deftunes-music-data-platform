{
  "cells": [
    {
      "cell_type": "raw",
      "metadata": {
        "vscode": {
          "languageId": "raw"
        }
      },
      "source": [
        "# DeFtunes Data Pipeline - Exploratory Data Analysis\n",
        "\n",
        "This notebook explores the data sources and validates the ETL pipeline architecture for DeFtunes, a music streaming platform with digital purchase capabilities.\n",
        "\n",
        "## Project Overview\n",
        "\n",
        "DeFtunes has expanded from a subscription-based streaming service to include digital song purchases. This creates a need for a comprehensive data pipeline that can:\n",
        "\n",
        "- Extract data from multiple sources (API endpoints and operational database)\n",
        "- Transform and clean data using medallion architecture\n",
        "- Model data into a star schema for analytics\n",
        "- Provide reliable, scalable data infrastructure\n",
        "\n",
        "## Architecture Overview\n",
        "\n",
        "![DeFtunes Architecture](images/Capstone-diagram.png)\n",
        "\n",
        "**Key Components:**\n",
        "- **Landing Zone**: Raw data ingestion from API and RDS\n",
        "- **Transformation Zone**: Data cleaning and enrichment using Apache Iceberg\n",
        "- **Serving Zone**: Star schema in Redshift for analytics\n",
        "- **Orchestration**: Infrastructure as Code with Terraform\n",
        "- **Data Modeling**: dbt for dimensional modeling\n"
      ]
    },
    {
      "cell_type": "code",
      "execution_count": null,
      "metadata": {},
      "outputs": [],
      "source": [
        "# Import required libraries\n",
        "import json\n",
        "import requests\n",
        "import pandas as pd\n",
        "import numpy as np\n",
        "from datetime import datetime, timedelta\n",
        "import matplotlib.pyplot as plt\n",
        "import seaborn as sns\n",
        "\n",
        "from IPython.display import HTML, display\n",
        "import warnings\n",
        "warnings.filterwarnings('ignore')\n",
        "\n",
        "# Configure plotting\n",
        "plt.style.use('seaborn-v0_8')\n",
        "sns.set_palette(\"husl\")\n",
        "\n",
        "%load_ext sql\n",
        "%matplotlib inline\n"
      ]
    },
    {
      "cell_type": "raw",
      "metadata": {
        "vscode": {
          "languageId": "raw"
        }
      },
      "source": [
        "## 1. Data Sources Analysis\n",
        "\n",
        "### 1.1 Operational Database (PostgreSQL)\n",
        "\n",
        "The primary data source is DeFtunes' operational database containing the songs catalog. This database runs on AWS RDS with PostgreSQL engine and contains comprehensive information about available songs for purchase.\n",
        "\n",
        "**Data Source**: Million Song Dataset (http://millionsongdataset.com/)\n"
      ]
    },
    {
      "cell_type": "code",
      "execution_count": null,
      "metadata": {},
      "outputs": [],
      "source": [
        "# Database connection configuration\n",
        "# Note: In production, these would be environment variables\n",
        "RDSDBHOST = 'deftunes-rds.region.rds.amazonaws.com'\n",
        "RDSDBPORT = '5432'\n",
        "RDSDBNAME = 'postgres'\n",
        "RDSDBUSER = 'deftunes_user'\n",
        "RDSDBPASSWORD = 'secure_password'\n",
        "\n",
        "postgres_connection_url = f'postgresql+psycopg2://{RDSDBUSER}:{RDSDBPASSWORD}@{RDSDBHOST}:{RDSDBPORT}/{RDSDBNAME}'\n",
        "%sql {postgres_connection_url}\n"
      ]
    }
  ],
  "metadata": {
    "language_info": {
      "name": "python"
    }
  },
  "nbformat": 4,
  "nbformat_minor": 2
}
